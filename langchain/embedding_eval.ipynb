{
 "cells": [
  {
   "cell_type": "markdown",
   "metadata": {},
   "source": [
    "# Retriever evaluation"
   ]
  },
  {
   "cell_type": "markdown",
   "metadata": {},
   "source": [
    "link - https://weaviate.io/blog/retrieval-evaluation-metrics"
   ]
  },
  {
   "cell_type": "code",
   "execution_count": 5,
   "metadata": {},
   "outputs": [
    {
     "data": {
      "text/plain": [
       "{'sweet pastry': {'P_4': 0.5}}"
      ]
     },
     "execution_count": 5,
     "metadata": {},
     "output_type": "execute_result"
    }
   ],
   "source": [
    "import pytrec_eval\n",
    "\n",
    "qrel = {\n",
    "    'sweet pastry' : {\n",
    "        'donut' : 1,\n",
    "        'muffin' : 1,\n",
    "        'scone' : 1, \n",
    "    },\n",
    "}\n",
    "\n",
    "run = {\n",
    "    'sweet pastry' : {\n",
    "        'donut' : 0.95,\n",
    "        'bagel' : 0.9,\n",
    "        'muffin' : 0.8, \n",
    "        'croissant' : 0.7, \n",
    "    },\n",
    "}\n",
    "\n",
    "evaluator = pytrec_eval.RelevanceEvaluator(qrel, {'P.4'})\n",
    "results = evaluator.evaluate(run)\n",
    "results"
   ]
  },
  {
   "cell_type": "code",
   "execution_count": 7,
   "metadata": {},
   "outputs": [
    {
     "data": {
      "text/plain": [
       "{'sweet pastry': {'recall_4': 0.6666666666666666}}"
      ]
     },
     "execution_count": 7,
     "metadata": {},
     "output_type": "execute_result"
    }
   ],
   "source": [
    "evaluator = pytrec_eval.RelevanceEvaluator(qrel, { 'recall.4' })\n",
    "results = evaluator.evaluate(run)\n",
    "results"
   ]
  },
  {
   "cell_type": "code",
   "execution_count": 9,
   "metadata": {},
   "outputs": [
    {
     "data": {
      "text/plain": [
       "{'sweet pastry': {'map_cut_4': 0.8333333333333333}}"
      ]
     },
     "execution_count": 9,
     "metadata": {},
     "output_type": "execute_result"
    }
   ],
   "source": [
    "qrel = {\n",
    "    'sweet pastry' : {\n",
    "        'donut' : 1,\n",
    "        'muffin' : 1,\n",
    "    },\n",
    "}\n",
    "\n",
    "run = {\n",
    "    'sweet pastry' : {\n",
    "        'donut' : 0.95,\n",
    "        'bagel' : 0.9,\n",
    "        'muffin' : 0.8, \n",
    "        'croissant' : 0.7, \n",
    "    },\n",
    "}\n",
    "\n",
    "evaluator = pytrec_eval.RelevanceEvaluator(qrel, { 'map_cut.4'})\n",
    "results = evaluator.evaluate(run)\n",
    "results"
   ]
  },
  {
   "cell_type": "code",
   "execution_count": 10,
   "metadata": {},
   "outputs": [
    {
     "data": {
      "text/plain": [
       "{'goes well with jam': {'ndcg_cut_4': 0.4672390440360399}}"
      ]
     },
     "execution_count": 10,
     "metadata": {},
     "output_type": "execute_result"
    }
   ],
   "source": [
    "qrel = {\n",
    "    'goes well with jam' : {\n",
    "        'bagel' : 2,\n",
    "        'croissant' : 2,\n",
    "        'roll' : 2,\n",
    "        'scone' : 1,\n",
    "        'muffin' : 1,\n",
    "        'donut' : 1,\n",
    "    },\n",
    "}\n",
    "\n",
    "run = {\n",
    "    'goes well with jam' : {\n",
    "        'pretzel' : 0.9,\n",
    "        'bagel' : 0.85,\n",
    "        'muffin' : 0.7, \n",
    "        'donut' : 0.6, \n",
    "    },\n",
    "}\n",
    "\n",
    "evaluator = pytrec_eval.RelevanceEvaluator(qrel, { 'ndcg_cut.4', })\n",
    "results = evaluator.evaluate(run)\n",
    "results"
   ]
  },
  {
   "cell_type": "code",
   "execution_count": null,
   "metadata": {},
   "outputs": [],
   "source": []
  },
  {
   "cell_type": "code",
   "execution_count": null,
   "metadata": {},
   "outputs": [],
   "source": []
  }
 ],
 "metadata": {
  "kernelspec": {
   "display_name": ".venv",
   "language": "python",
   "name": "python3"
  },
  "language_info": {
   "codemirror_mode": {
    "name": "ipython",
    "version": 3
   },
   "file_extension": ".py",
   "mimetype": "text/x-python",
   "name": "python",
   "nbconvert_exporter": "python",
   "pygments_lexer": "ipython3",
   "version": "3.10.2"
  }
 },
 "nbformat": 4,
 "nbformat_minor": 2
}
